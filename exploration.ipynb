{
 "cells": [
  {
   "cell_type": "markdown",
   "id": "f0ff7e20-2c8b-4161-be35-ab80cb8f44ab",
   "metadata": {},
   "source": [
    "# Medical Data Visualizer\n",
    "\n",
    "This notebook demonstrates step by step how the data from **`medical_examination.csv`** is processed and visualized. The goal is to explore the relationships between cardiovascular disease and different health/lifestyle factors using **pandas**, **matplotlib** and **seaborn**.\n",
    "\n",
    "We will:\n",
    "- Import and inspect the dataset\n",
    "- Prepare and normalize the data (BMI, cholesterol, glucose, etc.)\n",
    "- Create categorical plots to compare risk factors\n",
    "- Generate a heatmap to show correlations between measurements"
   ]
  },
  {
   "cell_type": "code",
   "execution_count": 13,
   "id": "43ca1d3f-fcc8-4e59-8484-20203e3d19f0",
   "metadata": {},
   "outputs": [
    {
     "data": {
      "text/html": [
       "<div>\n",
       "<style scoped>\n",
       "    .dataframe tbody tr th:only-of-type {\n",
       "        vertical-align: middle;\n",
       "    }\n",
       "\n",
       "    .dataframe tbody tr th {\n",
       "        vertical-align: top;\n",
       "    }\n",
       "\n",
       "    .dataframe thead th {\n",
       "        text-align: right;\n",
       "    }\n",
       "</style>\n",
       "<table border=\"1\" class=\"dataframe\">\n",
       "  <thead>\n",
       "    <tr style=\"text-align: right;\">\n",
       "      <th></th>\n",
       "      <th>id</th>\n",
       "      <th>age</th>\n",
       "      <th>sex</th>\n",
       "      <th>height</th>\n",
       "      <th>weight</th>\n",
       "      <th>ap_hi</th>\n",
       "      <th>ap_lo</th>\n",
       "      <th>cholesterol</th>\n",
       "      <th>gluc</th>\n",
       "      <th>smoke</th>\n",
       "      <th>alco</th>\n",
       "      <th>active</th>\n",
       "      <th>cardio</th>\n",
       "      <th>overweight</th>\n",
       "    </tr>\n",
       "  </thead>\n",
       "  <tbody>\n",
       "    <tr>\n",
       "      <th>0</th>\n",
       "      <td>0</td>\n",
       "      <td>18393</td>\n",
       "      <td>2</td>\n",
       "      <td>168</td>\n",
       "      <td>62.0</td>\n",
       "      <td>110</td>\n",
       "      <td>80</td>\n",
       "      <td>0</td>\n",
       "      <td>0</td>\n",
       "      <td>0</td>\n",
       "      <td>0</td>\n",
       "      <td>1</td>\n",
       "      <td>0</td>\n",
       "      <td>0</td>\n",
       "    </tr>\n",
       "    <tr>\n",
       "      <th>1</th>\n",
       "      <td>1</td>\n",
       "      <td>20228</td>\n",
       "      <td>1</td>\n",
       "      <td>156</td>\n",
       "      <td>85.0</td>\n",
       "      <td>140</td>\n",
       "      <td>90</td>\n",
       "      <td>1</td>\n",
       "      <td>0</td>\n",
       "      <td>0</td>\n",
       "      <td>0</td>\n",
       "      <td>1</td>\n",
       "      <td>1</td>\n",
       "      <td>1</td>\n",
       "    </tr>\n",
       "    <tr>\n",
       "      <th>2</th>\n",
       "      <td>2</td>\n",
       "      <td>18857</td>\n",
       "      <td>1</td>\n",
       "      <td>165</td>\n",
       "      <td>64.0</td>\n",
       "      <td>130</td>\n",
       "      <td>70</td>\n",
       "      <td>1</td>\n",
       "      <td>0</td>\n",
       "      <td>0</td>\n",
       "      <td>0</td>\n",
       "      <td>0</td>\n",
       "      <td>1</td>\n",
       "      <td>0</td>\n",
       "    </tr>\n",
       "    <tr>\n",
       "      <th>3</th>\n",
       "      <td>3</td>\n",
       "      <td>17623</td>\n",
       "      <td>2</td>\n",
       "      <td>169</td>\n",
       "      <td>82.0</td>\n",
       "      <td>150</td>\n",
       "      <td>100</td>\n",
       "      <td>0</td>\n",
       "      <td>0</td>\n",
       "      <td>0</td>\n",
       "      <td>0</td>\n",
       "      <td>1</td>\n",
       "      <td>1</td>\n",
       "      <td>1</td>\n",
       "    </tr>\n",
       "    <tr>\n",
       "      <th>4</th>\n",
       "      <td>4</td>\n",
       "      <td>17474</td>\n",
       "      <td>1</td>\n",
       "      <td>156</td>\n",
       "      <td>56.0</td>\n",
       "      <td>100</td>\n",
       "      <td>60</td>\n",
       "      <td>0</td>\n",
       "      <td>0</td>\n",
       "      <td>0</td>\n",
       "      <td>0</td>\n",
       "      <td>0</td>\n",
       "      <td>0</td>\n",
       "      <td>0</td>\n",
       "    </tr>\n",
       "  </tbody>\n",
       "</table>\n",
       "</div>"
      ],
      "text/plain": [
       "   id    age  sex  height  weight  ap_hi  ap_lo  cholesterol  gluc  smoke  \\\n",
       "0   0  18393    2     168    62.0    110     80            0     0      0   \n",
       "1   1  20228    1     156    85.0    140     90            1     0      0   \n",
       "2   2  18857    1     165    64.0    130     70            1     0      0   \n",
       "3   3  17623    2     169    82.0    150    100            0     0      0   \n",
       "4   4  17474    1     156    56.0    100     60            0     0      0   \n",
       "\n",
       "   alco  active  cardio  overweight  \n",
       "0     0       1       0           0  \n",
       "1     0       1       1           1  \n",
       "2     0       0       1           0  \n",
       "3     0       1       1           1  \n",
       "4     0       0       0           0  "
      ]
     },
     "execution_count": 13,
     "metadata": {},
     "output_type": "execute_result"
    }
   ],
   "source": [
    "import medical_data_visualizer as mdv\n",
    "mdv.df.head()"
   ]
  },
  {
   "cell_type": "markdown",
   "id": "83c8e90e-6b67-469f-87c3-6221ef5e93e5",
   "metadata": {},
   "source": [
    "## Overweight indicator"
   ]
  },
  {
   "cell_type": "code",
   "execution_count": 14,
   "id": "e6a1f06a-3bbd-4123-89d3-4ba4e8898247",
   "metadata": {},
   "outputs": [
    {
     "data": {
      "text/plain": [
       "1    43546\n",
       "0    26454\n",
       "Name: overweight, dtype: int64"
      ]
     },
     "execution_count": 14,
     "metadata": {},
     "output_type": "execute_result"
    }
   ],
   "source": [
    "# Sanity check: overweight column should exist and contain only 0/1\n",
    "mdv.df[\"overweight\"].value_counts(dropna=False)"
   ]
  },
  {
   "cell_type": "code",
   "execution_count": 15,
   "id": "267b85e5-2993-4a68-9dc9-a3907a1ab0fe",
   "metadata": {},
   "outputs": [
    {
     "data": {
      "text/html": [
       "<div>\n",
       "<style scoped>\n",
       "    .dataframe tbody tr th:only-of-type {\n",
       "        vertical-align: middle;\n",
       "    }\n",
       "\n",
       "    .dataframe tbody tr th {\n",
       "        vertical-align: top;\n",
       "    }\n",
       "\n",
       "    .dataframe thead th {\n",
       "        text-align: right;\n",
       "    }\n",
       "</style>\n",
       "<table border=\"1\" class=\"dataframe\">\n",
       "  <thead>\n",
       "    <tr style=\"text-align: right;\">\n",
       "      <th></th>\n",
       "      <th>height</th>\n",
       "      <th>weight</th>\n",
       "      <th>bmi</th>\n",
       "      <th>overweight</th>\n",
       "    </tr>\n",
       "  </thead>\n",
       "  <tbody>\n",
       "    <tr>\n",
       "      <th>0</th>\n",
       "      <td>168</td>\n",
       "      <td>62.0</td>\n",
       "      <td>21.967120</td>\n",
       "      <td>0</td>\n",
       "    </tr>\n",
       "    <tr>\n",
       "      <th>1</th>\n",
       "      <td>156</td>\n",
       "      <td>85.0</td>\n",
       "      <td>34.927679</td>\n",
       "      <td>1</td>\n",
       "    </tr>\n",
       "    <tr>\n",
       "      <th>2</th>\n",
       "      <td>165</td>\n",
       "      <td>64.0</td>\n",
       "      <td>23.507805</td>\n",
       "      <td>0</td>\n",
       "    </tr>\n",
       "    <tr>\n",
       "      <th>3</th>\n",
       "      <td>169</td>\n",
       "      <td>82.0</td>\n",
       "      <td>28.710479</td>\n",
       "      <td>1</td>\n",
       "    </tr>\n",
       "    <tr>\n",
       "      <th>4</th>\n",
       "      <td>156</td>\n",
       "      <td>56.0</td>\n",
       "      <td>23.011177</td>\n",
       "      <td>0</td>\n",
       "    </tr>\n",
       "    <tr>\n",
       "      <th>5</th>\n",
       "      <td>151</td>\n",
       "      <td>67.0</td>\n",
       "      <td>29.384676</td>\n",
       "      <td>1</td>\n",
       "    </tr>\n",
       "    <tr>\n",
       "      <th>6</th>\n",
       "      <td>157</td>\n",
       "      <td>93.0</td>\n",
       "      <td>37.729725</td>\n",
       "      <td>1</td>\n",
       "    </tr>\n",
       "    <tr>\n",
       "      <th>7</th>\n",
       "      <td>178</td>\n",
       "      <td>95.0</td>\n",
       "      <td>29.983588</td>\n",
       "      <td>1</td>\n",
       "    </tr>\n",
       "    <tr>\n",
       "      <th>8</th>\n",
       "      <td>158</td>\n",
       "      <td>71.0</td>\n",
       "      <td>28.440955</td>\n",
       "      <td>1</td>\n",
       "    </tr>\n",
       "    <tr>\n",
       "      <th>9</th>\n",
       "      <td>164</td>\n",
       "      <td>68.0</td>\n",
       "      <td>25.282570</td>\n",
       "      <td>1</td>\n",
       "    </tr>\n",
       "  </tbody>\n",
       "</table>\n",
       "</div>"
      ],
      "text/plain": [
       "   height  weight        bmi  overweight\n",
       "0     168    62.0  21.967120           0\n",
       "1     156    85.0  34.927679           1\n",
       "2     165    64.0  23.507805           0\n",
       "3     169    82.0  28.710479           1\n",
       "4     156    56.0  23.011177           0\n",
       "5     151    67.0  29.384676           1\n",
       "6     157    93.0  37.729725           1\n",
       "7     178    95.0  29.983588           1\n",
       "8     158    71.0  28.440955           1\n",
       "9     164    68.0  25.282570           1"
      ]
     },
     "execution_count": 15,
     "metadata": {},
     "output_type": "execute_result"
    }
   ],
   "source": [
    "# Spot-check BMI calculations vs overweight flag\n",
    "tmp = mdv.df.assign(\n",
    "    height_m = mdv.df.height / 100,\n",
    "    bmi = mdv.df.weight / ( (mdv.df.height/100) ** 2 )\n",
    ")[[\"height\", \"weight\", \"bmi\", \"overweight\"]]\n",
    "\n",
    "tmp.head(10)"
   ]
  },
  {
   "cell_type": "code",
   "execution_count": 16,
   "id": "527ca0fc-3e14-4934-97ae-b52315784a81",
   "metadata": {},
   "outputs": [
    {
     "data": {
      "text/html": [
       "<div>\n",
       "<style scoped>\n",
       "    .dataframe tbody tr th:only-of-type {\n",
       "        vertical-align: middle;\n",
       "    }\n",
       "\n",
       "    .dataframe tbody tr th {\n",
       "        vertical-align: top;\n",
       "    }\n",
       "\n",
       "    .dataframe thead th {\n",
       "        text-align: right;\n",
       "    }\n",
       "</style>\n",
       "<table border=\"1\" class=\"dataframe\">\n",
       "  <thead>\n",
       "    <tr style=\"text-align: right;\">\n",
       "      <th></th>\n",
       "      <th>height</th>\n",
       "      <th>weight</th>\n",
       "      <th>bmi</th>\n",
       "      <th>overweight</th>\n",
       "    </tr>\n",
       "  </thead>\n",
       "  <tbody>\n",
       "    <tr>\n",
       "      <th>count</th>\n",
       "      <td>70000.000000</td>\n",
       "      <td>70000.000000</td>\n",
       "      <td>70000.000000</td>\n",
       "      <td>70000.000000</td>\n",
       "    </tr>\n",
       "    <tr>\n",
       "      <th>mean</th>\n",
       "      <td>164.359229</td>\n",
       "      <td>74.205690</td>\n",
       "      <td>27.556513</td>\n",
       "      <td>0.622086</td>\n",
       "    </tr>\n",
       "    <tr>\n",
       "      <th>std</th>\n",
       "      <td>8.210126</td>\n",
       "      <td>14.395757</td>\n",
       "      <td>6.091511</td>\n",
       "      <td>0.484870</td>\n",
       "    </tr>\n",
       "    <tr>\n",
       "      <th>min</th>\n",
       "      <td>55.000000</td>\n",
       "      <td>10.000000</td>\n",
       "      <td>3.471784</td>\n",
       "      <td>0.000000</td>\n",
       "    </tr>\n",
       "    <tr>\n",
       "      <th>25%</th>\n",
       "      <td>159.000000</td>\n",
       "      <td>65.000000</td>\n",
       "      <td>23.875115</td>\n",
       "      <td>0.000000</td>\n",
       "    </tr>\n",
       "    <tr>\n",
       "      <th>50%</th>\n",
       "      <td>165.000000</td>\n",
       "      <td>72.000000</td>\n",
       "      <td>26.374068</td>\n",
       "      <td>1.000000</td>\n",
       "    </tr>\n",
       "    <tr>\n",
       "      <th>75%</th>\n",
       "      <td>170.000000</td>\n",
       "      <td>82.000000</td>\n",
       "      <td>30.222222</td>\n",
       "      <td>1.000000</td>\n",
       "    </tr>\n",
       "    <tr>\n",
       "      <th>max</th>\n",
       "      <td>250.000000</td>\n",
       "      <td>200.000000</td>\n",
       "      <td>298.666667</td>\n",
       "      <td>1.000000</td>\n",
       "    </tr>\n",
       "  </tbody>\n",
       "</table>\n",
       "</div>"
      ],
      "text/plain": [
       "             height        weight           bmi    overweight\n",
       "count  70000.000000  70000.000000  70000.000000  70000.000000\n",
       "mean     164.359229     74.205690     27.556513      0.622086\n",
       "std        8.210126     14.395757      6.091511      0.484870\n",
       "min       55.000000     10.000000      3.471784      0.000000\n",
       "25%      159.000000     65.000000     23.875115      0.000000\n",
       "50%      165.000000     72.000000     26.374068      1.000000\n",
       "75%      170.000000     82.000000     30.222222      1.000000\n",
       "max      250.000000    200.000000    298.666667      1.000000"
      ]
     },
     "execution_count": 16,
     "metadata": {},
     "output_type": "execute_result"
    }
   ],
   "source": [
    "# Quick statistical summary of BMI and overweight\n",
    "mdv.df.assign(\n",
    "    bmi = mdv.df.weight / ( (mdv.df.height/100) ** 2 )\n",
    ")[[\"height\", \"weight\", \"bmi\", \"overweight\"]].describe(include=\"all\")"
   ]
  },
  {
   "cell_type": "markdown",
   "id": "cd2fc462-b539-4b83-ae41-9fd6a3a75998",
   "metadata": {},
   "source": [
    "## Normalize cholesterol and gluc"
   ]
  },
  {
   "cell_type": "code",
   "execution_count": 17,
   "id": "b8a0d11f-7649-4fca-a55e-a145eb9b6281",
   "metadata": {},
   "outputs": [
    {
     "data": {
      "text/plain": [
       "cholesterol    int32\n",
       "gluc           int32\n",
       "overweight     int32\n",
       "dtype: object"
      ]
     },
     "execution_count": 17,
     "metadata": {},
     "output_type": "execute_result"
    }
   ],
   "source": [
    "# Quick schema + dtype checks\n",
    "mdv.df[[\"cholesterol\",\"gluc\",\"overweight\"]].dtypes"
   ]
  },
  {
   "cell_type": "code",
   "execution_count": 18,
   "id": "6d099593-844f-4e2d-8be9-c5b0b59bc05a",
   "metadata": {},
   "outputs": [
    {
     "data": {
      "text/html": [
       "<div>\n",
       "<style scoped>\n",
       "    .dataframe tbody tr th:only-of-type {\n",
       "        vertical-align: middle;\n",
       "    }\n",
       "\n",
       "    .dataframe tbody tr th {\n",
       "        vertical-align: top;\n",
       "    }\n",
       "\n",
       "    .dataframe thead th {\n",
       "        text-align: right;\n",
       "    }\n",
       "</style>\n",
       "<table border=\"1\" class=\"dataframe\">\n",
       "  <thead>\n",
       "    <tr style=\"text-align: right;\">\n",
       "      <th></th>\n",
       "      <th>cholesterol</th>\n",
       "      <th>gluc</th>\n",
       "    </tr>\n",
       "  </thead>\n",
       "  <tbody>\n",
       "    <tr>\n",
       "      <th>min</th>\n",
       "      <td>0</td>\n",
       "      <td>0</td>\n",
       "    </tr>\n",
       "    <tr>\n",
       "      <th>max</th>\n",
       "      <td>1</td>\n",
       "      <td>1</td>\n",
       "    </tr>\n",
       "    <tr>\n",
       "      <th>nunique</th>\n",
       "      <td>2</td>\n",
       "      <td>2</td>\n",
       "    </tr>\n",
       "  </tbody>\n",
       "</table>\n",
       "</div>"
      ],
      "text/plain": [
       "         cholesterol  gluc\n",
       "min                0     0\n",
       "max                1     1\n",
       "nunique            2     2"
      ]
     },
     "execution_count": 18,
     "metadata": {},
     "output_type": "execute_result"
    }
   ],
   "source": [
    "# Domain checks (0/1 only)\n",
    "mdv.df[[\"cholesterol\",\"gluc\"]].agg([\"min\",\"max\",\"nunique\"])"
   ]
  },
  {
   "cell_type": "code",
   "execution_count": 19,
   "id": "2f736b0b-56c4-4a07-a6a7-246f30a30790",
   "metadata": {},
   "outputs": [
    {
     "data": {
      "text/plain": [
       "(0    0.748357\n",
       " 1    0.251643\n",
       " Name: cholesterol, dtype: float64,\n",
       " 0    0.8497\n",
       " 1    0.1503\n",
       " Name: gluc, dtype: float64)"
      ]
     },
     "execution_count": 19,
     "metadata": {},
     "output_type": "execute_result"
    }
   ],
   "source": [
    "# Distribution sanity\n",
    "mdv.df[\"cholesterol\"].value_counts(normalize=True).sort_index(), \\\n",
    "mdv.df[\"gluc\"].value_counts(normalize=True).sort_index()"
   ]
  },
  {
   "cell_type": "code",
   "execution_count": 20,
   "id": "fa9411e5-bc22-43cc-b8b4-2fd94019b011",
   "metadata": {},
   "outputs": [
    {
     "data": {
      "text/html": [
       "<div>\n",
       "<style scoped>\n",
       "    .dataframe tbody tr th:only-of-type {\n",
       "        vertical-align: middle;\n",
       "    }\n",
       "\n",
       "    .dataframe tbody tr th {\n",
       "        vertical-align: top;\n",
       "    }\n",
       "\n",
       "    .dataframe thead th {\n",
       "        text-align: right;\n",
       "    }\n",
       "</style>\n",
       "<table border=\"1\" class=\"dataframe\">\n",
       "  <thead>\n",
       "    <tr style=\"text-align: right;\">\n",
       "      <th></th>\n",
       "      <th>chol_norm</th>\n",
       "      <th>gluc_norm</th>\n",
       "      <th>chol_raw</th>\n",
       "      <th>gluc_raw</th>\n",
       "      <th>chol_expected</th>\n",
       "      <th>gluc_expected</th>\n",
       "    </tr>\n",
       "  </thead>\n",
       "  <tbody>\n",
       "    <tr>\n",
       "      <th>0</th>\n",
       "      <td>0</td>\n",
       "      <td>0</td>\n",
       "      <td>1</td>\n",
       "      <td>1</td>\n",
       "      <td>0</td>\n",
       "      <td>0</td>\n",
       "    </tr>\n",
       "    <tr>\n",
       "      <th>1</th>\n",
       "      <td>1</td>\n",
       "      <td>0</td>\n",
       "      <td>3</td>\n",
       "      <td>1</td>\n",
       "      <td>1</td>\n",
       "      <td>0</td>\n",
       "    </tr>\n",
       "    <tr>\n",
       "      <th>2</th>\n",
       "      <td>1</td>\n",
       "      <td>0</td>\n",
       "      <td>3</td>\n",
       "      <td>1</td>\n",
       "      <td>1</td>\n",
       "      <td>0</td>\n",
       "    </tr>\n",
       "    <tr>\n",
       "      <th>3</th>\n",
       "      <td>0</td>\n",
       "      <td>0</td>\n",
       "      <td>1</td>\n",
       "      <td>1</td>\n",
       "      <td>0</td>\n",
       "      <td>0</td>\n",
       "    </tr>\n",
       "    <tr>\n",
       "      <th>4</th>\n",
       "      <td>0</td>\n",
       "      <td>0</td>\n",
       "      <td>1</td>\n",
       "      <td>1</td>\n",
       "      <td>0</td>\n",
       "      <td>0</td>\n",
       "    </tr>\n",
       "    <tr>\n",
       "      <th>5</th>\n",
       "      <td>1</td>\n",
       "      <td>1</td>\n",
       "      <td>2</td>\n",
       "      <td>2</td>\n",
       "      <td>1</td>\n",
       "      <td>1</td>\n",
       "    </tr>\n",
       "    <tr>\n",
       "      <th>6</th>\n",
       "      <td>1</td>\n",
       "      <td>0</td>\n",
       "      <td>3</td>\n",
       "      <td>1</td>\n",
       "      <td>1</td>\n",
       "      <td>0</td>\n",
       "    </tr>\n",
       "    <tr>\n",
       "      <th>7</th>\n",
       "      <td>1</td>\n",
       "      <td>1</td>\n",
       "      <td>3</td>\n",
       "      <td>3</td>\n",
       "      <td>1</td>\n",
       "      <td>1</td>\n",
       "    </tr>\n",
       "    <tr>\n",
       "      <th>8</th>\n",
       "      <td>0</td>\n",
       "      <td>0</td>\n",
       "      <td>1</td>\n",
       "      <td>1</td>\n",
       "      <td>0</td>\n",
       "      <td>0</td>\n",
       "    </tr>\n",
       "    <tr>\n",
       "      <th>9</th>\n",
       "      <td>0</td>\n",
       "      <td>0</td>\n",
       "      <td>1</td>\n",
       "      <td>1</td>\n",
       "      <td>0</td>\n",
       "      <td>0</td>\n",
       "    </tr>\n",
       "  </tbody>\n",
       "</table>\n",
       "</div>"
      ],
      "text/plain": [
       "   chol_norm  gluc_norm  chol_raw  gluc_raw  chol_expected  gluc_expected\n",
       "0          0          0         1         1              0              0\n",
       "1          1          0         3         1              1              0\n",
       "2          1          0         3         1              1              0\n",
       "3          0          0         1         1              0              0\n",
       "4          0          0         1         1              0              0\n",
       "5          1          1         2         2              1              1\n",
       "6          1          0         3         1              1              0\n",
       "7          1          1         3         3              1              1\n",
       "8          0          0         1         1              0              0\n",
       "9          0          0         1         1              0              0"
      ]
     },
     "execution_count": 20,
     "metadata": {},
     "output_type": "execute_result"
    }
   ],
   "source": [
    "# Spot-check mapping against raw values\n",
    "import pandas as pd\n",
    "raw = pd.read_csv(\"medical_examination.csv\")[[\"cholesterol\",\"gluc\"]].rename(columns={\"cholesterol\":\"chol_raw\",\"gluc\":\"gluc_raw\"})\n",
    "check = mdv.df[[\"cholesterol\",\"gluc\"]].rename(columns={\"cholesterol\":\"chol_norm\",\"gluc\":\"gluc_norm\"}).join(raw)\n",
    "check.assign(\n",
    "    chol_expected = (check[\"chol_raw\"] > 1).astype(int),\n",
    "    gluc_expected = (check[\"gluc_raw\"] > 1).astype(int),\n",
    ").head(10)"
   ]
  },
  {
   "cell_type": "markdown",
   "id": "2bdea04c-bdd0-43c3-9ed1-257a7facdd79",
   "metadata": {},
   "source": [
    "## Categorical Plot"
   ]
  },
  {
   "cell_type": "code",
   "execution_count": 21,
   "id": "345bb106-6955-466c-8bbb-f444421836d6",
   "metadata": {},
   "outputs": [
    {
     "data": {
      "image/png": "[encoded data removed]",
      "text/plain": [
       "<Figure size 1058.88x500 with 2 Axes>"
      ]
     },
     "metadata": {},
     "output_type": "display_data"
    }
   ],
   "source": [
    "# Call draw_cat_plot and show the figure\n",
    "from IPython.display import display\n",
    "import matplotlib.pyplot as plt\n",
    "\n",
    "fig = mdv.draw_cat_plot()\n",
    "display(fig)\n",
    "plt.close(fig)"
   ]
  },
  {
   "cell_type": "code",
   "execution_count": 22,
   "id": "42240151-6001-434f-8e1e-8231e2781576",
   "metadata": {},
   "outputs": [
    {
     "data": {
      "text/plain": [
       "13"
      ]
     },
     "execution_count": 22,
     "metadata": {},
     "output_type": "execute_result"
    }
   ],
   "source": [
    "# Inspect axes labels\n",
    "ax = fig.axes[0]\n",
    "ax.get_xlabel(), ax.get_ylabel()\n",
    "\n",
    "# Inspect x-axis tick labels (should match expected order)\n",
    "[label.get_text() for label in ax.get_xticklabels()]\n",
    "\n",
    "# Count number of bars drawn\n",
    "import matplotlib as mpl\n",
    "len([rect for rect in ax.get_children() if isinstance(rect, mpl.patches.Rectangle)])"
   ]
  },
  {
   "cell_type": "markdown",
   "id": "70219299-f87e-432c-a2cc-a366a5ffbd6b",
   "metadata": {},
   "source": [
    "## Heat Map"
   ]
  },
  {
   "cell_type": "code",
   "execution_count": 23,
   "id": "3f2af4a9-4e08-481e-90b5-702b7a524cba",
   "metadata": {},
   "outputs": [
    {
     "data": {
      "text/plain": [
       "((70000, 14), (63126, 14), 0, (150.0, 180.0), (51.0, 107.0))"
      ]
     },
     "execution_count": 23,
     "metadata": {},
     "output_type": "execute_result"
    }
   ],
   "source": [
    "import pandas as pd, numpy as np, importlib, medical_data_visualizer as mdv\n",
    "mdv = importlib.reload(mdv)\n",
    "\n",
    "# Recompute cleaning inline for inspection (mirrors mdv.draw_heat_map)\n",
    "df_heat = mdv.df[mdv.df[\"ap_lo\"] <= mdv.df[\"ap_hi\"]].copy()\n",
    "h_low, h_high = df_heat[\"height\"].quantile([0.025, 0.975])\n",
    "w_low, w_high = df_heat[\"weight\"].quantile([0.025, 0.975])\n",
    "df_heat = df_heat[\n",
    "    df_heat[\"height\"].between(h_low, h_high) & df_heat[\"weight\"].between(w_low, w_high)\n",
    "].copy()\n",
    "\n",
    "df_shape_before = mdv.df.shape\n",
    "df_shape_after  = df_heat.shape\n",
    "bad_bp          = (~(df_heat[\"ap_lo\"] <= df_heat[\"ap_hi\"])).sum()\n",
    "(df_shape_before, df_shape_after, bad_bp, (h_low, h_high), (w_low, w_high))"
   ]
  },
  {
   "cell_type": "code",
   "execution_count": 24,
   "id": "1ec428a3-4908-4d92-8d74-5030269b6db5",
   "metadata": {},
   "outputs": [
    {
     "data": {
      "text/plain": [
       "((14, 14), (14, 14), dtype('bool'), 105)"
      ]
     },
     "execution_count": 24,
     "metadata": {},
     "output_type": "execute_result"
    }
   ],
   "source": [
    "# Corr & mask\n",
    "corr = df_heat.corr(numeric_only=True)\n",
    "mask = np.triu(np.ones_like(corr, dtype=bool))\n",
    "corr.shape, mask.shape, mask.dtype, int(mask.sum())"
   ]
  },
  {
   "cell_type": "code",
   "execution_count": 25,
   "id": "2a227700-167c-406c-aa4d-6793b1aeb8c0",
   "metadata": {},
   "outputs": [
    {
     "data": {
      "image/png": "[encoded data removed]",
      "text/plain": [
       "<Figure size 1200x1000 with 2 Axes>"
      ]
     },
     "metadata": {},
     "output_type": "display_data"
    }
   ],
   "source": [
    "# Render once\n",
    "from IPython.display import display\n",
    "import matplotlib.pyplot as plt\n",
    "\n",
    "fig = mdv.draw_heat_map()\n",
    "display(fig)\n",
    "plt.close(fig)"
   ]
  },
  {
   "cell_type": "code",
   "execution_count": 26,
   "id": "6320b157-c846-4bed-b448-57ff381eca4f",
   "metadata": {},
   "outputs": [
    {
     "data": {
      "text/plain": [
       "(['id',\n",
       "  'age',\n",
       "  'sex',\n",
       "  'height',\n",
       "  'weight',\n",
       "  'ap_hi',\n",
       "  'ap_lo',\n",
       "  'cholesterol',\n",
       "  'gluc',\n",
       "  'smoke',\n",
       "  'alco',\n",
       "  'active',\n",
       "  'cardio',\n",
       "  'overweight'],\n",
       " ['id', 'age', 'sex', 'height', 'weight'],\n",
       " True)"
      ]
     },
     "execution_count": 26,
     "metadata": {},
     "output_type": "execute_result"
    }
   ],
   "source": [
    "# Label & annotation sanity\n",
    "ax = fig.axes[0]\n",
    "xticks = [t.get_text() for t in ax.get_xticklabels()]\n",
    "yticks = [t.get_text() for t in ax.get_yticklabels()]\n",
    "has_text = any(hasattr(artist, \"get_text\") and artist.get_text() for artist in ax.get_children())\n",
    "\n",
    "xticks, yticks[:5], has_text"
   ]
  },
  {
   "cell_type": "code",
   "execution_count": 27,
   "id": "4e002d78-91f0-49c2-acb3-25cf27f0c770",
   "metadata": {},
   "outputs": [
    {
     "data": {
      "text/plain": [
       "True"
      ]
     },
     "execution_count": 27,
     "metadata": {},
     "output_type": "execute_result"
    }
   ],
   "source": [
    "# Check label matching FCC’s expected order\n",
    "expected_labels = ['id','age','sex','height','weight','ap_hi','ap_lo','cholesterol','gluc','smoke','alco','active','cardio','overweight']\n",
    "xticks == expected_labels"
   ]
  }
 ],
 "metadata": {
  "kernelspec": {
   "display_name": "Python 3 (ipykernel)",
   "language": "python",
   "name": "python3"
  },
  "language_info": {
   "codemirror_mode": {
    "name": "ipython",
    "version": 3
   },
   "file_extension": ".py",
   "mimetype": "text/x-python",
   "name": "python",
   "nbconvert_exporter": "python",
   "pygments_lexer": "ipython3",
   "version": "3.11.0"
  }
 },
 "nbformat": 4,
 "nbformat_minor": 5
}
